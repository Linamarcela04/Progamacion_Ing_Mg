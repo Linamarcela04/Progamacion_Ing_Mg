{
  "nbformat": 4,
  "nbformat_minor": 0,
  "metadata": {
    "colab": {
      "provenance": []
    },
    "kernelspec": {
      "name": "python3",
      "display_name": "Python 3"
    },
    "language_info": {
      "name": "python"
    }
  },
  "cells": [
    {
      "cell_type": "markdown",
      "source": [
        "#Interpolación"
      ],
      "metadata": {
        "id": "ZtfQdruYvQ8z"
      }
    },
    {
      "cell_type": "markdown",
      "source": [
        "##Líbrerias"
      ],
      "metadata": {
        "id": "3bF7EBhCvWYd"
      }
    },
    {
      "cell_type": "code",
      "execution_count": 1,
      "metadata": {
        "id": "AxLtNVK1zFr3"
      },
      "outputs": [],
      "source": [
        "#Importar Librerias\n",
        "import numpy as np\n",
        "from scipy.interpolate import lagrange\n",
        "import matplotlib.pyplot as plt"
      ]
    },
    {
      "cell_type": "markdown",
      "source": [
        "##Vectores"
      ],
      "metadata": {
        "id": "Au8U-7iuva5c"
      }
    },
    {
      "cell_type": "code",
      "source": [
        "x = [20, 40, 60, 80, 100, 120, 140, 160, 180]\n",
        "y_SL2 = [0.601, 1.193, 1.763, 2.299, 2.790, 3.238, 3.623, 3.933, 4.181]\n",
        "y_SL3 = [3.963, 3.925, 3.850, 3.738, 3.588, 3.438, 3.250, 3.025, 2.800]\n",
        "y_SL1 = [2.975, 2.950, 2.900, 2.825, 2.725, 2.625, 2.500, 2.350, 2.200]\n",
        "y_VL2 = [0.480, 0.950, 1.411, 1.845, 2.237, 2.600, 2.932, 3.232, 3.456]\n",
        "y_VL3 = [2.613, 2.575, 2.538, 2.463, 2.350, 2.238, 2.125, 2.013, 1.863]\n",
        "y_VL1 = [2.075, 2.050, 2.025, 1.975, 1.900, 1.825, 1.750, 1.675, 1.575]"
      ],
      "metadata": {
        "id": "VRIExl4FupWn"
      },
      "execution_count": 2,
      "outputs": []
    },
    {
      "cell_type": "markdown",
      "source": [
        "##Lagrange"
      ],
      "metadata": {
        "id": "UIqnU1t2vi0A"
      }
    },
    {
      "cell_type": "code",
      "source": [
        "# Polinomio de Lagrange\n",
        "pSL2 = lagrange(x,y_SL2)\n",
        "pSL3 = lagrange(x,y_SL3)\n",
        "pSL1 = lagrange(x,y_SL1)\n",
        "pVL2 = lagrange(x,y_VL2)\n",
        "pVL3 = lagrange(x,y_VL3)\n",
        "pVL1 = lagrange(x,y_VL1)\n",
        "\n",
        "# Evaluar polinomio obtenido en un intervalo de [20,180].\n",
        "x1 = np.linspace(20,180,100)\n",
        "y1 = pSL2(x1)\n",
        "y2 = pSL3(x1)\n",
        "y3 = pSL1(x1)\n",
        "y4 = pVL2(x1)\n",
        "y5 = pVL3(x1)\n",
        "y6 = pVL1(x1)"
      ],
      "metadata": {
        "id": "voz0BgV62090"
      },
      "execution_count": 3,
      "outputs": []
    },
    {
      "cell_type": "markdown",
      "source": [
        "####Gráficas"
      ],
      "metadata": {
        "id": "TcGUVZbzwHBb"
      }
    },
    {
      "cell_type": "code",
      "source": [
        "# Figura\n",
        "fig, axs = plt.subplots(6, 2, figsize=(15, 40))\n",
        "\n",
        "datos_originales = [y_SL2, y_SL3, y_SL1, y_VL2, y_VL3, y_VL1]\n",
        "interpolaciones = [y1, y2, y3, y4, y5, y6]\n",
        "\n",
        "for i in range(6):\n",
        "    axs[i, 0].plot(x, datos_originales[i], 'x', label='Datos originales')\n",
        "    axs[i, 0].set_title(f'Conjunto de datos {i+1}')\n",
        "    axs[i, 0].legend()\n",
        "\n",
        "for i, interpolacion in enumerate(interpolaciones):\n",
        "    axs[i, 1].plot(x, datos_originales[i], 'x', label='Datos originales')\n",
        "    if interpolacion is not None:\n",
        "        axs[i, 1].plot(x1, interpolacion, '-', label='Interpolación')\n",
        "    axs[i, 1].set_title(f'Conjunto de datos {i+1}')\n",
        "    axs[i, 1].legend()\n",
        "\n",
        "plt.tight_layout()\n",
        "plt.show()"
      ],
      "metadata": {
        "id": "1E81JVFYxB41"
      },
      "execution_count": null,
      "outputs": []
    },
    {
      "cell_type": "markdown",
      "source": [
        "####Valores en x(30) y x(55)"
      ],
      "metadata": {
        "id": "NZ6jlyBlwiXQ"
      }
    },
    {
      "cell_type": "code",
      "source": [
        "# Valores de interpolación en x(30) y x(55)\n",
        "print(f\"El valor interpolado para x(30) = {pSL2(55):.3f}, y x(55) = {pSL2(30):.3f}\")\n",
        "print(f\"El valor interpolado para x(30) = {pSL3(55):.3f}, y x(55) = {pSL3(30):.3f}\")\n",
        "print(f\"El valor interpolado para x(30) = {pSL1(55):.3f}, y x(55) = {pSL1(30):.3f}\")\n",
        "print(f\"El valor interpolado para x(30) = {pVL2(55):.3f}, y x(55) = {pVL2(30):.3f}\")\n",
        "print(f\"El valor interpolado para x(30) = {pVL3(55):.3f}, y x(55) = {pVL3(30):.3f}\")\n",
        "print(f\"El valor interpolado para x(30) = {pVL1(55):.3f}, y x(55) = {pVL1(30):.3f}\")"
      ],
      "metadata": {
        "colab": {
          "base_uri": "https://localhost:8080/"
        },
        "id": "7H0wFlFuwhhG",
        "outputId": "591e54a0-525d-4310-c6d4-d5d02606bba6"
      },
      "execution_count": 5,
      "outputs": [
        {
          "output_type": "stream",
          "name": "stdout",
          "text": [
            "El valor interpolado para x(30) = 1.622, y x(55) = 0.905\n",
            "El valor interpolado para x(30) = 3.869, y x(55) = 3.969\n",
            "El valor interpolado para x(30) = 2.913, y x(55) = 2.979\n",
            "El valor interpolado para x(30) = 1.296, y x(55) = 0.722\n",
            "El valor interpolado para x(30) = 2.548, y x(55) = 2.600\n",
            "El valor interpolado para x(30) = 2.032, y x(55) = 2.066\n"
          ]
        }
      ]
    },
    {
      "cell_type": "markdown",
      "source": [
        "##Numpy"
      ],
      "metadata": {
        "id": "H7TR0CNhvtHL"
      }
    },
    {
      "cell_type": "code",
      "source": [
        "# Valor a interpolar\n",
        "x_interpolar1 = 30\n",
        "x_interpolar2 = 55\n",
        "\n",
        "# Realizar la interpolación\n",
        "interSL2 = np.interp(x_interpolar1, x, y_SL2)\n",
        "interSL3 = np.interp(x_interpolar1, x, y_SL3)\n",
        "interSL1 = np.interp(x_interpolar1, x, y_SL1)\n",
        "interVL2 = np.interp(x_interpolar1, x, y_VL2)\n",
        "interVL3 = np.interp(x_interpolar1, x, y_VL3)\n",
        "interVL1 = np.interp(x_interpolar1, x, y_VL1)\n",
        "inter_SL2 = np.interp(x_interpolar2, x, y_SL2)\n",
        "inter_SL3 = np.interp(x_interpolar2, x, y_SL3)\n",
        "inter_SL1 = np.interp(x_interpolar2, x, y_SL1)\n",
        "inter_VL2 = np.interp(x_interpolar2, x, y_VL2)\n",
        "inter_VL3 = np.interp(x_interpolar2, x, y_VL3)\n",
        "inter_VL1 = np.interp(x_interpolar2, x, y_VL1)\n",
        "\n",
        "# Evaluar polinomio obtenido en un intervalo de [20,180].\n",
        "x1 = np.linspace(20,180,100)\n",
        "ya = np.interp(x1, x, y_SL2)\n",
        "yb = np.interp(x1, x, y_SL3)\n",
        "yc = np.interp(x1, x, y_SL1)\n",
        "yd = np.interp(x1, x, y_VL2)\n",
        "ye = np.interp(x1, x, y_VL3)\n",
        "yf = np.interp(x1, x, y_VL1)"
      ],
      "metadata": {
        "id": "E4537v9Gxj9q"
      },
      "execution_count": 12,
      "outputs": []
    },
    {
      "cell_type": "markdown",
      "source": [
        "####Gráficas"
      ],
      "metadata": {
        "id": "QKzCWW6qxlLu"
      }
    },
    {
      "cell_type": "code",
      "source": [
        "#Figura\n",
        "fig, axs = plt.subplots(6, 2, figsize=(15, 40))\n",
        "\n",
        "datos_originales = [y_SL2, y_SL3, y_SL1, y_VL2, y_VL3, y_VL1]\n",
        "interpolaciones = [ya, yb, yc, yd, ye, yf]\n",
        "\n",
        "for i in range(6):\n",
        "    axs[i, 0].plot(x, datos_originales[i], 'x', label='Datos originales')\n",
        "    axs[i, 0].set_title(f'Conjunto de datos {i+1}')\n",
        "    axs[i, 0].legend()\n",
        "\n",
        "for i, interpolacion in enumerate(interpolaciones):\n",
        "    axs[i, 1].plot(x, datos_originales[i], 'x', label='Datos originales')\n",
        "    if interpolacion is not None:\n",
        "        axs[i, 1].plot(x1, interpolacion, '-', label='Interpolación')\n",
        "    axs[i, 1].set_title(f'Conjunto de datos {i+1}')\n",
        "    axs[i, 1].legend()\n",
        "\n",
        "plt.tight_layout()\n",
        "plt.show()\n",
        "\n"
      ],
      "metadata": {
        "id": "YyljUq7724Yk"
      },
      "execution_count": null,
      "outputs": []
    },
    {
      "cell_type": "markdown",
      "source": [
        "####Valores en x(30) y x(55)"
      ],
      "metadata": {
        "id": "bTKGjO9GxVCi"
      }
    },
    {
      "cell_type": "code",
      "source": [
        "print(f\"El valor interpolado para x(30) = {interSL2:.3f}, y x(55) = {inter_SL2:.3f}\")\n",
        "print(f\"El valor interpolado para x(30) = {interSL3:.3f}, y x(55) = {inter_SL3:.3f}\")\n",
        "print(f\"El valor interpolado para x(30) = {interSL1:.3f}, y x(55) = {inter_SL1:.3f}\")\n",
        "print(f\"El valor interpolado para x(30) = {interVL2:.3f}, y x(55) = {inter_VL2:.3f}\")\n",
        "print(f\"El valor interpolado para x(30) = {interVL3:.3f}, y x(55) = {inter_VL3:.3f}\")\n",
        "print(f\"El valor interpolado para x(30) = {interVL1:.3f}, y x(55) = {inter_VL1:.3f}\")\n"
      ],
      "metadata": {
        "colab": {
          "base_uri": "https://localhost:8080/"
        },
        "id": "KWyK8CJGxVjz",
        "outputId": "192a080a-84f0-4740-f1ab-475a9217c4d7"
      },
      "execution_count": 14,
      "outputs": [
        {
          "output_type": "stream",
          "name": "stdout",
          "text": [
            "El valor interpolado para x(30) = 0.897, y x(55) = 1.620\n",
            "El valor interpolado para x(30) = 3.944, y x(55) = 3.869\n",
            "El valor interpolado para x(30) = 2.963, y x(55) = 2.913\n",
            "El valor interpolado para x(30) = 0.715, y x(55) = 1.296\n",
            "El valor interpolado para x(30) = 2.594, y x(55) = 2.547\n",
            "El valor interpolado para x(30) = 2.062, y x(55) = 2.031\n"
          ]
        }
      ]
    },
    {
      "cell_type": "markdown",
      "source": [
        "##Dimensiones"
      ],
      "metadata": {
        "id": "upF0DuXUsLOD"
      }
    },
    {
      "cell_type": "code",
      "source": [
        "#Calcular dimensiones para 30°\n",
        "#Rectitud\n",
        "dx = 20\n",
        "L2S = dx/pSL2(30)\n",
        "L3S = pSL3(30) * L2S\n",
        "L1S = pSL1(30) * L2S\n",
        "L4S = L3S\n",
        "\n",
        "#Velocidad\n",
        "L2V = dx/pVL2(30)\n",
        "L3V = pVL3(30) * L2V\n",
        "L1V = pVL1(30) * L2V\n",
        "L4V = L3V\n",
        "\n",
        "#Calcular las dimensiones para 55°\n",
        "\n",
        "#Rectitud\n",
        "dx = 20\n",
        "L2S_ = dx/pSL2(55)\n",
        "L3S_ = pSL3(55) * L2S_\n",
        "L1S_ = pSL1(55) * L2S_\n",
        "L4S_ = L3S_\n",
        "\n",
        "#Velocidad\n",
        "L2V_ = dx/pVL2(55)\n",
        "L3V_ = pVL3(55) * L2V_\n",
        "L1V_ = pVL1(55) * L2V_\n",
        "L4V_ = L3V_"
      ],
      "metadata": {
        "id": "k7zeM-JfsL4M"
      },
      "execution_count": 17,
      "outputs": []
    },
    {
      "cell_type": "code",
      "source": [
        "#Calcular dimensiones para 30°\n",
        "#Rectitud\n",
        "dx = 20\n",
        "L2_S = dx/np.interp(30, x,y_SL2)\n",
        "L3_S = np.interp(30, x,y_SL3) * L2_S\n",
        "L1_S = np.interp(30, x,y_SL1) * L2_S\n",
        "L4_S = L3_S\n",
        "\n",
        "#Velocidad\n",
        "L2_V = dx/np.interp(30, x, y_VL2)\n",
        "L3_V = np.interp(30, x, y_VL3) * L2_V\n",
        "L1_V = np.interp(30, x, y_VL1)* L2_V\n",
        "L4_V = L3_V\n",
        "\n",
        "#Calcular las dimensiones para 55°\n",
        "\n",
        "#Rectitud\n",
        "L_2S = dx/np.interp(55, x,y_SL2)\n",
        "L_3S = np.interp(55, x,y_SL3) * L_2S\n",
        "L_1S = np.interp(55, x,y_SL1) * L_2S\n",
        "L_4S = L_3S\n",
        "\n",
        "#Velocidad\n",
        "L_2V = dx/np.interp(55, x, y_VL2)\n",
        "L_3V = np.interp(55, x, y_VL3) * L_2V\n",
        "L_1V = np.interp(55, x, y_VL1) * L_2V\n",
        "L_4V = L_3V"
      ],
      "metadata": {
        "id": "8gbQSxGusgKx"
      },
      "execution_count": 18,
      "outputs": []
    },
    {
      "cell_type": "code",
      "source": [
        "print(\"Dimensiones para rectitud y velocidad para 30° con Lagrange \")\n",
        "print(f\"Las dimensiones para 30° de L1 = {L1S}, L2 = {L2S}, L3 = {L3S}, L4 = {L4S}\")\n",
        "print(f\"Las dimensiones para 30° de L1 = {L1V}, L2 = {L2V}, L3 = {L3V}, L4 = {L4V}\")\n",
        "\n",
        "print(\"Dimensiones para rectitud y velocidad para 55° con Lagrange\")\n",
        "print(f\"Las dimensiones para 55° de L1 = {L1S_}, L2 = {L2S_}, L3 = {L3S_}, L4 = {L4S_}\")\n",
        "print(f\"Las dimensiones para 55° de L1 = {L1V_}, L2 = {L2V_}, L3 = {L3V_}, L4 = {L4V_}\")\n",
        "\n",
        "print(\"Dimensiones para rectitud y velocidad para 30° con Numpy\")\n",
        "print(f\"Las dimensiones para 30° de L1 = {L1_S}, L2 = {L2_S}, L3 = {L3_S}, L4 = {L4_S}\")\n",
        "print(f\"Las dimensiones para 30° de L1 = {L1_V}, L2 = {L2_V}, L3 = {L3_V}, L4 = {L4_V}\")\n",
        "\n",
        "print(\"Dimensiones para rectitud y velocidad para 55° con Numpy\")\n",
        "print(f\"Las dimensiones para 55° de L1 = {L_1S}, L2 = {L_2S}, L3 = {L_3S}, L4 = {L_4S}\")\n",
        "print(f\"Las dimensiones para 55° de L1 = {L_1V}, L2 = {L_2V}, L3 = {L_3V}, L4 = {L_4V}\")"
      ],
      "metadata": {
        "colab": {
          "base_uri": "https://localhost:8080/"
        },
        "id": "b3e2E89czIGI",
        "outputId": "fff15deb-e205-47b0-ff66-1a1e4f541ce1"
      },
      "execution_count": 19,
      "outputs": [
        {
          "output_type": "stream",
          "name": "stdout",
          "text": [
            "Dimensiones para rectitud y velocidad para 30° con Lagrange \n",
            "Las dimensiones para 30° de L1 = 65.85865974829598, L2 = 22.11056130852223, L3 = 87.75099397322296, L4 = 87.75099397322296\n",
            "Las dimensiones para 30° de L1 = 57.21942641174523, L2 = 27.692087447433437, L3 = 72.00930145847735, L4 = 72.00930145847735\n",
            "Dimensiones para rectitud y velocidad para 55° con Lagrange\n",
            "Las dimensiones para 55° de L1 = 35.90859898892062, L2 = 12.32780253947045, L3 = 47.69698364576915, L4 = 47.69698364576915\n",
            "Las dimensiones para 55° de L1 = 31.34938092875953, L2 = 15.427047245800924, L3 = 39.31439124861217, L4 = 39.31439124861217\n",
            "Dimensiones para rectitud y velocidad para 30° con Numpy\n",
            "Las dimensiones para 30° de L1 = 66.05351170568562, L2 = 22.29654403567447, L3 = 87.93756967670011, L4 = 87.93756967670011\n",
            "Las dimensiones para 30° de L1 = 57.69230769230769, L2 = 27.972027972027973, L3 = 72.55944055944057, L4 = 72.55944055944057\n",
            "Dimensiones para rectitud y velocidad para 55° con Numpy\n",
            "Las dimensiones para 55° de L1 = 35.9456957729096, L2 = 12.341869793273682, L3 = 47.74760876272756, L4 = 47.74760876272756\n",
            "Las dimensiones para 55° de L1 = 31.352498552961606, L2 = 15.435076210688791, L3 = 39.316997877677025, L4 = 39.316997877677025\n"
          ]
        }
      ]
    },
    {
      "cell_type": "markdown",
      "source": [
        "##Conclusiones\n",
        "Teniendo en cuenta los resultados que nos arrojan los métodos de Lagrange y Numpy, es posible concluir que el método que mejor se ajusta a los datos es el método de Lagrange, teniendo en cuenta que este refleja mejor las variaciones en los datos y sus tendencias."
      ],
      "metadata": {
        "id": "M5rAYWn303Oe"
      }
    }
  ]
}